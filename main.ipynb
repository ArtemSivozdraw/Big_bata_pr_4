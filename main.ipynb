{
 "cells": [
  {
   "cell_type": "code",
   "execution_count": 23,
   "id": "cc052256-9443-4697-a33e-c17a192a5fc3",
   "metadata": {},
   "outputs": [],
   "source": [
    "import pandas as pd\n",
    "import numpy as np\n",
    "import matplotlib.pyplot as plt\n",
    "import time\n",
    "import kagglehub\n",
    "import os\n",
    "from sqlalchemy import create_engine,text"
   ]
  },
  {
   "cell_type": "markdown",
   "id": "45a2195d-09bc-4935-a985-e8fca86bd72d",
   "metadata": {},
   "source": [
    "## Завантажуємо датасет з Kaggle"
   ]
  },
  {
   "cell_type": "code",
   "execution_count": 3,
   "id": "3e1e52b1-900d-4bf6-84cf-239aa20394eb",
   "metadata": {},
   "outputs": [],
   "source": [
    "path = kagglehub.dataset_download(\"robikscube/hourly-energy-consumption\")"
   ]
  },
  {
   "cell_type": "markdown",
   "id": "16492765-a9f1-45cb-ac50-a78bcd4ebe70",
   "metadata": {},
   "source": [
    "## Обєднуємо всі файли в одни DataFrame\n",
    "так як всі файли мають формат csv, фіксуємо час читання з csv файлів"
   ]
  },
  {
   "cell_type": "code",
   "execution_count": 11,
   "id": "2433f4da-93e9-43ef-be21-74e9e32153aa",
   "metadata": {},
   "outputs": [
    {
     "data": {
      "text/plain": [
       "2.076050043106079"
      ]
     },
     "execution_count": 11,
     "metadata": {},
     "output_type": "execute_result"
    }
   ],
   "source": [
    "start = time.time()\n",
    "df = pd.DataFrame()\n",
    "for file in os.listdir(path) :\n",
    "    if file == 'est_hourly.paruqet' : \n",
    "        continue\n",
    "    path_file = path + \"\\\\\" + file\n",
    "    temp = pd.read_csv(path_file)\n",
    "    temp[\"Datetime\"] = pd.to_datetime(temp[\"Datetime\"])\n",
    "    temp.set_index(\"Datetime\", inplace=True)\n",
    "    temp = temp[~temp.index.duplicated(keep = 'first')]\n",
    "    df_copy = df.copy()\n",
    "    df = pd.concat([df_copy,temp],axis=1).fillna(0)\n",
    "end = time.time()\n",
    "read_from_csv = end - start\n",
    "read_from_csv"
   ]
  },
  {
   "cell_type": "markdown",
   "id": "fc55f0a4-57aa-4cdb-a5e2-407005660e22",
   "metadata": {},
   "source": [
    "## Вираховуємо швидкість запису в csv файл"
   ]
  },
  {
   "cell_type": "code",
   "execution_count": 22,
   "id": "158befc7-0d7f-4e20-ba9d-63f1899fee17",
   "metadata": {},
   "outputs": [
    {
     "data": {
      "text/plain": [
       "2.803337335586548"
      ]
     },
     "execution_count": 22,
     "metadata": {},
     "output_type": "execute_result"
    }
   ],
   "source": [
    "start = time.time()\n",
    "df.to_csv(\"power.csv\")\n",
    "end = time.time()\n",
    "write_to_csv = end - start\n",
    "write_to_csv"
   ]
  },
  {
   "cell_type": "code",
   "execution_count": 5,
   "id": "9dc88418-def9-4f5d-bbf0-b4b18ae59a28",
   "metadata": {},
   "outputs": [
    {
     "data": {
      "text/html": [
       "<div>\n",
       "<style scoped>\n",
       "    .dataframe tbody tr th:only-of-type {\n",
       "        vertical-align: middle;\n",
       "    }\n",
       "\n",
       "    .dataframe tbody tr th {\n",
       "        vertical-align: top;\n",
       "    }\n",
       "\n",
       "    .dataframe thead th {\n",
       "        text-align: right;\n",
       "    }\n",
       "</style>\n",
       "<table border=\"1\" class=\"dataframe\">\n",
       "  <thead>\n",
       "    <tr style=\"text-align: right;\">\n",
       "      <th></th>\n",
       "      <th>AEP_MW</th>\n",
       "      <th>COMED_MW</th>\n",
       "      <th>DAYTON_MW</th>\n",
       "      <th>DEOK_MW</th>\n",
       "      <th>DOM_MW</th>\n",
       "      <th>DUQ_MW</th>\n",
       "      <th>EKPC_MW</th>\n",
       "      <th>FE_MW</th>\n",
       "      <th>NI_MW</th>\n",
       "      <th>PJME_MW</th>\n",
       "      <th>...</th>\n",
       "      <th>DEOK</th>\n",
       "      <th>DOM</th>\n",
       "      <th>DUQ</th>\n",
       "      <th>EKPC</th>\n",
       "      <th>FE</th>\n",
       "      <th>NI</th>\n",
       "      <th>PJME</th>\n",
       "      <th>PJMW</th>\n",
       "      <th>PJM_Load</th>\n",
       "      <th>PJM_Load_MW</th>\n",
       "    </tr>\n",
       "    <tr>\n",
       "      <th>Datetime</th>\n",
       "      <th></th>\n",
       "      <th></th>\n",
       "      <th></th>\n",
       "      <th></th>\n",
       "      <th></th>\n",
       "      <th></th>\n",
       "      <th></th>\n",
       "      <th></th>\n",
       "      <th></th>\n",
       "      <th></th>\n",
       "      <th></th>\n",
       "      <th></th>\n",
       "      <th></th>\n",
       "      <th></th>\n",
       "      <th></th>\n",
       "      <th></th>\n",
       "      <th></th>\n",
       "      <th></th>\n",
       "      <th></th>\n",
       "      <th></th>\n",
       "      <th></th>\n",
       "    </tr>\n",
       "  </thead>\n",
       "  <tbody>\n",
       "    <tr>\n",
       "      <th>1998-04-01 01:00:00</th>\n",
       "      <td>0.0</td>\n",
       "      <td>0.0</td>\n",
       "      <td>0.0</td>\n",
       "      <td>0.0</td>\n",
       "      <td>0.0</td>\n",
       "      <td>0.0</td>\n",
       "      <td>0.0</td>\n",
       "      <td>0.0</td>\n",
       "      <td>0.0</td>\n",
       "      <td>0.0</td>\n",
       "      <td>...</td>\n",
       "      <td>0.0</td>\n",
       "      <td>0.0</td>\n",
       "      <td>0.0</td>\n",
       "      <td>0.0</td>\n",
       "      <td>0.0</td>\n",
       "      <td>0.0</td>\n",
       "      <td>0.0</td>\n",
       "      <td>0.0</td>\n",
       "      <td>22259.0</td>\n",
       "      <td>22259.0</td>\n",
       "    </tr>\n",
       "    <tr>\n",
       "      <th>1998-04-01 02:00:00</th>\n",
       "      <td>0.0</td>\n",
       "      <td>0.0</td>\n",
       "      <td>0.0</td>\n",
       "      <td>0.0</td>\n",
       "      <td>0.0</td>\n",
       "      <td>0.0</td>\n",
       "      <td>0.0</td>\n",
       "      <td>0.0</td>\n",
       "      <td>0.0</td>\n",
       "      <td>0.0</td>\n",
       "      <td>...</td>\n",
       "      <td>0.0</td>\n",
       "      <td>0.0</td>\n",
       "      <td>0.0</td>\n",
       "      <td>0.0</td>\n",
       "      <td>0.0</td>\n",
       "      <td>0.0</td>\n",
       "      <td>0.0</td>\n",
       "      <td>0.0</td>\n",
       "      <td>21244.0</td>\n",
       "      <td>21244.0</td>\n",
       "    </tr>\n",
       "    <tr>\n",
       "      <th>1998-04-01 03:00:00</th>\n",
       "      <td>0.0</td>\n",
       "      <td>0.0</td>\n",
       "      <td>0.0</td>\n",
       "      <td>0.0</td>\n",
       "      <td>0.0</td>\n",
       "      <td>0.0</td>\n",
       "      <td>0.0</td>\n",
       "      <td>0.0</td>\n",
       "      <td>0.0</td>\n",
       "      <td>0.0</td>\n",
       "      <td>...</td>\n",
       "      <td>0.0</td>\n",
       "      <td>0.0</td>\n",
       "      <td>0.0</td>\n",
       "      <td>0.0</td>\n",
       "      <td>0.0</td>\n",
       "      <td>0.0</td>\n",
       "      <td>0.0</td>\n",
       "      <td>0.0</td>\n",
       "      <td>20651.0</td>\n",
       "      <td>20651.0</td>\n",
       "    </tr>\n",
       "    <tr>\n",
       "      <th>1998-04-01 04:00:00</th>\n",
       "      <td>0.0</td>\n",
       "      <td>0.0</td>\n",
       "      <td>0.0</td>\n",
       "      <td>0.0</td>\n",
       "      <td>0.0</td>\n",
       "      <td>0.0</td>\n",
       "      <td>0.0</td>\n",
       "      <td>0.0</td>\n",
       "      <td>0.0</td>\n",
       "      <td>0.0</td>\n",
       "      <td>...</td>\n",
       "      <td>0.0</td>\n",
       "      <td>0.0</td>\n",
       "      <td>0.0</td>\n",
       "      <td>0.0</td>\n",
       "      <td>0.0</td>\n",
       "      <td>0.0</td>\n",
       "      <td>0.0</td>\n",
       "      <td>0.0</td>\n",
       "      <td>20421.0</td>\n",
       "      <td>20421.0</td>\n",
       "    </tr>\n",
       "    <tr>\n",
       "      <th>1998-04-01 05:00:00</th>\n",
       "      <td>0.0</td>\n",
       "      <td>0.0</td>\n",
       "      <td>0.0</td>\n",
       "      <td>0.0</td>\n",
       "      <td>0.0</td>\n",
       "      <td>0.0</td>\n",
       "      <td>0.0</td>\n",
       "      <td>0.0</td>\n",
       "      <td>0.0</td>\n",
       "      <td>0.0</td>\n",
       "      <td>...</td>\n",
       "      <td>0.0</td>\n",
       "      <td>0.0</td>\n",
       "      <td>0.0</td>\n",
       "      <td>0.0</td>\n",
       "      <td>0.0</td>\n",
       "      <td>0.0</td>\n",
       "      <td>0.0</td>\n",
       "      <td>0.0</td>\n",
       "      <td>20713.0</td>\n",
       "      <td>20713.0</td>\n",
       "    </tr>\n",
       "    <tr>\n",
       "      <th>...</th>\n",
       "      <td>...</td>\n",
       "      <td>...</td>\n",
       "      <td>...</td>\n",
       "      <td>...</td>\n",
       "      <td>...</td>\n",
       "      <td>...</td>\n",
       "      <td>...</td>\n",
       "      <td>...</td>\n",
       "      <td>...</td>\n",
       "      <td>...</td>\n",
       "      <td>...</td>\n",
       "      <td>...</td>\n",
       "      <td>...</td>\n",
       "      <td>...</td>\n",
       "      <td>...</td>\n",
       "      <td>...</td>\n",
       "      <td>...</td>\n",
       "      <td>...</td>\n",
       "      <td>...</td>\n",
       "      <td>...</td>\n",
       "      <td>...</td>\n",
       "    </tr>\n",
       "    <tr>\n",
       "      <th>2018-08-02 20:00:00</th>\n",
       "      <td>17673.0</td>\n",
       "      <td>16437.0</td>\n",
       "      <td>2554.0</td>\n",
       "      <td>4052.0</td>\n",
       "      <td>14038.0</td>\n",
       "      <td>1966.0</td>\n",
       "      <td>1815.0</td>\n",
       "      <td>9866.0</td>\n",
       "      <td>0.0</td>\n",
       "      <td>44057.0</td>\n",
       "      <td>...</td>\n",
       "      <td>4052.0</td>\n",
       "      <td>14038.0</td>\n",
       "      <td>1966.0</td>\n",
       "      <td>1815.0</td>\n",
       "      <td>9866.0</td>\n",
       "      <td>0.0</td>\n",
       "      <td>44057.0</td>\n",
       "      <td>6545.0</td>\n",
       "      <td>0.0</td>\n",
       "      <td>0.0</td>\n",
       "    </tr>\n",
       "    <tr>\n",
       "      <th>2018-08-02 21:00:00</th>\n",
       "      <td>17303.0</td>\n",
       "      <td>15590.0</td>\n",
       "      <td>2481.0</td>\n",
       "      <td>3892.0</td>\n",
       "      <td>13832.0</td>\n",
       "      <td>1944.0</td>\n",
       "      <td>1769.0</td>\n",
       "      <td>9656.0</td>\n",
       "      <td>0.0</td>\n",
       "      <td>43256.0</td>\n",
       "      <td>...</td>\n",
       "      <td>3892.0</td>\n",
       "      <td>13832.0</td>\n",
       "      <td>1944.0</td>\n",
       "      <td>1769.0</td>\n",
       "      <td>9656.0</td>\n",
       "      <td>0.0</td>\n",
       "      <td>43256.0</td>\n",
       "      <td>6496.0</td>\n",
       "      <td>0.0</td>\n",
       "      <td>0.0</td>\n",
       "    </tr>\n",
       "    <tr>\n",
       "      <th>2018-08-02 22:00:00</th>\n",
       "      <td>17001.0</td>\n",
       "      <td>15086.0</td>\n",
       "      <td>2405.0</td>\n",
       "      <td>3851.0</td>\n",
       "      <td>13312.0</td>\n",
       "      <td>1901.0</td>\n",
       "      <td>1756.0</td>\n",
       "      <td>9532.0</td>\n",
       "      <td>0.0</td>\n",
       "      <td>41552.0</td>\n",
       "      <td>...</td>\n",
       "      <td>3851.0</td>\n",
       "      <td>13312.0</td>\n",
       "      <td>1901.0</td>\n",
       "      <td>1756.0</td>\n",
       "      <td>9532.0</td>\n",
       "      <td>0.0</td>\n",
       "      <td>41552.0</td>\n",
       "      <td>6325.0</td>\n",
       "      <td>0.0</td>\n",
       "      <td>0.0</td>\n",
       "    </tr>\n",
       "    <tr>\n",
       "      <th>2018-08-02 23:00:00</th>\n",
       "      <td>15964.0</td>\n",
       "      <td>14448.0</td>\n",
       "      <td>2250.0</td>\n",
       "      <td>3575.0</td>\n",
       "      <td>12390.0</td>\n",
       "      <td>1789.0</td>\n",
       "      <td>1619.0</td>\n",
       "      <td>8872.0</td>\n",
       "      <td>0.0</td>\n",
       "      <td>38500.0</td>\n",
       "      <td>...</td>\n",
       "      <td>3575.0</td>\n",
       "      <td>12390.0</td>\n",
       "      <td>1789.0</td>\n",
       "      <td>1619.0</td>\n",
       "      <td>8872.0</td>\n",
       "      <td>0.0</td>\n",
       "      <td>38500.0</td>\n",
       "      <td>5892.0</td>\n",
       "      <td>0.0</td>\n",
       "      <td>0.0</td>\n",
       "    </tr>\n",
       "    <tr>\n",
       "      <th>2018-08-03 00:00:00</th>\n",
       "      <td>14809.0</td>\n",
       "      <td>13335.0</td>\n",
       "      <td>2042.0</td>\n",
       "      <td>3281.0</td>\n",
       "      <td>11385.0</td>\n",
       "      <td>1656.0</td>\n",
       "      <td>1448.0</td>\n",
       "      <td>8198.0</td>\n",
       "      <td>0.0</td>\n",
       "      <td>35486.0</td>\n",
       "      <td>...</td>\n",
       "      <td>3281.0</td>\n",
       "      <td>11385.0</td>\n",
       "      <td>1656.0</td>\n",
       "      <td>1448.0</td>\n",
       "      <td>8198.0</td>\n",
       "      <td>0.0</td>\n",
       "      <td>35486.0</td>\n",
       "      <td>5489.0</td>\n",
       "      <td>0.0</td>\n",
       "      <td>0.0</td>\n",
       "    </tr>\n",
       "  </tbody>\n",
       "</table>\n",
       "<p>178258 rows × 24 columns</p>\n",
       "</div>"
      ],
      "text/plain": [
       "                      AEP_MW  COMED_MW  DAYTON_MW  DEOK_MW   DOM_MW  DUQ_MW  \\\n",
       "Datetime                                                                      \n",
       "1998-04-01 01:00:00      0.0       0.0        0.0      0.0      0.0     0.0   \n",
       "1998-04-01 02:00:00      0.0       0.0        0.0      0.0      0.0     0.0   \n",
       "1998-04-01 03:00:00      0.0       0.0        0.0      0.0      0.0     0.0   \n",
       "1998-04-01 04:00:00      0.0       0.0        0.0      0.0      0.0     0.0   \n",
       "1998-04-01 05:00:00      0.0       0.0        0.0      0.0      0.0     0.0   \n",
       "...                      ...       ...        ...      ...      ...     ...   \n",
       "2018-08-02 20:00:00  17673.0   16437.0     2554.0   4052.0  14038.0  1966.0   \n",
       "2018-08-02 21:00:00  17303.0   15590.0     2481.0   3892.0  13832.0  1944.0   \n",
       "2018-08-02 22:00:00  17001.0   15086.0     2405.0   3851.0  13312.0  1901.0   \n",
       "2018-08-02 23:00:00  15964.0   14448.0     2250.0   3575.0  12390.0  1789.0   \n",
       "2018-08-03 00:00:00  14809.0   13335.0     2042.0   3281.0  11385.0  1656.0   \n",
       "\n",
       "                     EKPC_MW   FE_MW  NI_MW  PJME_MW  ...    DEOK      DOM  \\\n",
       "Datetime                                              ...                    \n",
       "1998-04-01 01:00:00      0.0     0.0    0.0      0.0  ...     0.0      0.0   \n",
       "1998-04-01 02:00:00      0.0     0.0    0.0      0.0  ...     0.0      0.0   \n",
       "1998-04-01 03:00:00      0.0     0.0    0.0      0.0  ...     0.0      0.0   \n",
       "1998-04-01 04:00:00      0.0     0.0    0.0      0.0  ...     0.0      0.0   \n",
       "1998-04-01 05:00:00      0.0     0.0    0.0      0.0  ...     0.0      0.0   \n",
       "...                      ...     ...    ...      ...  ...     ...      ...   \n",
       "2018-08-02 20:00:00   1815.0  9866.0    0.0  44057.0  ...  4052.0  14038.0   \n",
       "2018-08-02 21:00:00   1769.0  9656.0    0.0  43256.0  ...  3892.0  13832.0   \n",
       "2018-08-02 22:00:00   1756.0  9532.0    0.0  41552.0  ...  3851.0  13312.0   \n",
       "2018-08-02 23:00:00   1619.0  8872.0    0.0  38500.0  ...  3575.0  12390.0   \n",
       "2018-08-03 00:00:00   1448.0  8198.0    0.0  35486.0  ...  3281.0  11385.0   \n",
       "\n",
       "                        DUQ    EKPC      FE   NI     PJME    PJMW  PJM_Load  \\\n",
       "Datetime                                                                      \n",
       "1998-04-01 01:00:00     0.0     0.0     0.0  0.0      0.0     0.0   22259.0   \n",
       "1998-04-01 02:00:00     0.0     0.0     0.0  0.0      0.0     0.0   21244.0   \n",
       "1998-04-01 03:00:00     0.0     0.0     0.0  0.0      0.0     0.0   20651.0   \n",
       "1998-04-01 04:00:00     0.0     0.0     0.0  0.0      0.0     0.0   20421.0   \n",
       "1998-04-01 05:00:00     0.0     0.0     0.0  0.0      0.0     0.0   20713.0   \n",
       "...                     ...     ...     ...  ...      ...     ...       ...   \n",
       "2018-08-02 20:00:00  1966.0  1815.0  9866.0  0.0  44057.0  6545.0       0.0   \n",
       "2018-08-02 21:00:00  1944.0  1769.0  9656.0  0.0  43256.0  6496.0       0.0   \n",
       "2018-08-02 22:00:00  1901.0  1756.0  9532.0  0.0  41552.0  6325.0       0.0   \n",
       "2018-08-02 23:00:00  1789.0  1619.0  8872.0  0.0  38500.0  5892.0       0.0   \n",
       "2018-08-03 00:00:00  1656.0  1448.0  8198.0  0.0  35486.0  5489.0       0.0   \n",
       "\n",
       "                     PJM_Load_MW  \n",
       "Datetime                          \n",
       "1998-04-01 01:00:00      22259.0  \n",
       "1998-04-01 02:00:00      21244.0  \n",
       "1998-04-01 03:00:00      20651.0  \n",
       "1998-04-01 04:00:00      20421.0  \n",
       "1998-04-01 05:00:00      20713.0  \n",
       "...                          ...  \n",
       "2018-08-02 20:00:00          0.0  \n",
       "2018-08-02 21:00:00          0.0  \n",
       "2018-08-02 22:00:00          0.0  \n",
       "2018-08-02 23:00:00          0.0  \n",
       "2018-08-03 00:00:00          0.0  \n",
       "\n",
       "[178258 rows x 24 columns]"
      ]
     },
     "execution_count": 5,
     "metadata": {},
     "output_type": "execute_result"
    }
   ],
   "source": [
    "df"
   ]
  },
  {
   "cell_type": "markdown",
   "id": "0de16e3a-8fa7-49b4-b5fd-72a835ebb264",
   "metadata": {},
   "source": [
    "## Створюємо підключення до Sqlite бази даних"
   ]
  },
  {
   "cell_type": "code",
   "execution_count": 8,
   "id": "7f257146-7872-46c8-b9bd-a027f739a2a2",
   "metadata": {},
   "outputs": [],
   "source": [
    "engine = create_engine('sqlite:///my_database.db')"
   ]
  },
  {
   "cell_type": "markdown",
   "id": "42b5c603-daac-4f4c-b17b-cd8b770dfe52",
   "metadata": {},
   "source": [
    "## Фіксуємо час запису даних до SQL бази даних"
   ]
  },
  {
   "cell_type": "code",
   "execution_count": 12,
   "id": "052da01f-67f0-43a3-8351-44a41fa73285",
   "metadata": {},
   "outputs": [
    {
     "data": {
      "text/plain": [
       "4.681362152099609"
      ]
     },
     "execution_count": 12,
     "metadata": {},
     "output_type": "execute_result"
    }
   ],
   "source": [
    "start = time.time()\n",
    "df.to_sql(\"power\", con=engine, if_exists=\"replace\", index=True)\n",
    "end = time.time()\n",
    "write_to_sql = end - start\n",
    "write_to_sql"
   ]
  },
  {
   "cell_type": "markdown",
   "id": "109c99d6-ea7c-4886-a5e9-23f62010594f",
   "metadata": {},
   "source": [
    "## Фіксуємо час читання з SQL бази даних"
   ]
  },
  {
   "cell_type": "code",
   "execution_count": 13,
   "id": "d8f12224-5936-40f1-8734-cc48e416ebe5",
   "metadata": {},
   "outputs": [
    {
     "data": {
      "text/plain": [
       "1.1493632793426514"
      ]
     },
     "execution_count": 13,
     "metadata": {},
     "output_type": "execute_result"
    }
   ],
   "source": [
    "start = time.time()\n",
    "df_sql = pd.read_sql(\"SELECT * FROM power\", con = engine)\n",
    "end = time.time()\n",
    "read_from_sql = end - start\n",
    "read_from_sql"
   ]
  },
  {
   "cell_type": "markdown",
   "id": "dabfa58b-2184-40bd-8e56-7c5e1ae89d24",
   "metadata": {},
   "source": [
    "## Фіксуємо час запису в parquet файл"
   ]
  },
  {
   "cell_type": "code",
   "execution_count": 14,
   "id": "6b174a7b-79cc-4c9b-85f2-64fffa149885",
   "metadata": {},
   "outputs": [
    {
     "data": {
      "text/plain": [
       "0.4990990161895752"
      ]
     },
     "execution_count": 14,
     "metadata": {},
     "output_type": "execute_result"
    }
   ],
   "source": [
    "start = time.time()\n",
    "df.to_parquet(\"power.parquet\")\n",
    "end = time.time()\n",
    "write_to_parquet = end - start\n",
    "write_to_parquet"
   ]
  },
  {
   "cell_type": "markdown",
   "id": "4b6ecb21-e1f9-4ff5-b7a4-b522fb525813",
   "metadata": {},
   "source": [
    "## Фіксуємо час читання з parquet файлу"
   ]
  },
  {
   "cell_type": "code",
   "execution_count": 15,
   "id": "c014c525-5ebf-4b82-86a1-f3a90be501d1",
   "metadata": {},
   "outputs": [
    {
     "data": {
      "text/plain": [
       "0.07297873497009277"
      ]
     },
     "execution_count": 15,
     "metadata": {},
     "output_type": "execute_result"
    }
   ],
   "source": [
    "start = time.time()\n",
    "df_parquet = pd.read_parquet(\"power.parquet\")\n",
    "end = time.time()\n",
    "read_from_parquet = end - start\n",
    "read_from_parquet"
   ]
  },
  {
   "cell_type": "markdown",
   "id": "9befbb8b-9bbf-4960-89a9-bf25e9847d78",
   "metadata": {},
   "source": [
    "## Фіксуємо час запису в hdf5 файл"
   ]
  },
  {
   "cell_type": "code",
   "execution_count": 18,
   "id": "8e8f55e2-c7c9-410b-8f72-3cbd22133a47",
   "metadata": {},
   "outputs": [
    {
     "data": {
      "text/plain": [
       "0.11542630195617676"
      ]
     },
     "execution_count": 18,
     "metadata": {},
     "output_type": "execute_result"
    }
   ],
   "source": [
    "start = time.time()\n",
    "df.to_hdf(\"power.h5\", key = \"power\", mode=\"w\")\n",
    "end = time.time()\n",
    "write_to_hdf5 = end - start\n",
    "write_to_hdf5"
   ]
  },
  {
   "cell_type": "markdown",
   "id": "440fc098-e2d3-43ab-9ee6-4e1bb5f4f439",
   "metadata": {},
   "source": [
    "## Фіксуємо час читання з hdf5 файлу"
   ]
  },
  {
   "cell_type": "code",
   "execution_count": 19,
   "id": "c83e8be8-828c-4afa-8baa-c434edd9b308",
   "metadata": {},
   "outputs": [
    {
     "data": {
      "text/plain": [
       "0.0734560489654541"
      ]
     },
     "execution_count": 19,
     "metadata": {},
     "output_type": "execute_result"
    }
   ],
   "source": [
    "start = time.time()\n",
    "df_hdf5 = pd.read_hdf(\"power.h5\")\n",
    "end = time.time()\n",
    "read_from_hdf5 = end - start\n",
    "read_from_hdf5"
   ]
  },
  {
   "cell_type": "markdown",
   "id": "8be44b94-0f47-4652-b46a-c69d47a0dcfd",
   "metadata": {},
   "source": [
    "## Малюємо гістограму результатів"
   ]
  },
  {
   "cell_type": "code",
   "execution_count": 26,
   "id": "fbfffc1c-bd9a-42b1-8cdf-c96ce77fcb27",
   "metadata": {},
   "outputs": [
    {
     "data": {
      "image/png": "[encoded data removed]",
      "text/plain": [
       "<Figure size 640x480 with 1 Axes>"
      ]
     },
     "metadata": {},
     "output_type": "display_data"
    }
   ],
   "source": [
    "\n",
    "formats = [\"SQL\", \"CSV\", \"Parquet\", \"HDF5\"]\n",
    "read_times = [read_from_sql, read_from_csv, read_from_parquet, read_from_hdf5]\n",
    "write_times = [write_to_sql, write_to_csv, write_to_parquet, write_to_hdf5]\n",
    "\n",
    "x = np.arange(len(formats))  \n",
    "width = 0.35  \n",
    "\n",
    "fig, ax = plt.subplots()\n",
    "bars1 = ax.bar(x - width/2, read_times, width, label='Читання', color='skyblue')\n",
    "bars2 = ax.bar(x + width/2, write_times, width, label='Запис', color='salmon')\n",
    "\n",
    "\n",
    "ax.set_ylabel('Час (сек)')\n",
    "ax.set_title('Швидкість читання і запису по форматах')\n",
    "ax.set_xticks(x)\n",
    "ax.set_xticklabels(formats)\n",
    "ax.legend()\n",
    "ax.grid(axis='y', linestyle='--', alpha=0.7)\n",
    "\n",
    "\n",
    "for bars in [bars1, bars2]:\n",
    "    for bar in bars:\n",
    "        height = bar.get_height()\n",
    "        ax.annotate(f'{height:.2f}',\n",
    "                    xy=(bar.get_x() + bar.get_width() / 2, height),\n",
    "                    xytext=(0, 3),\n",
    "                    textcoords=\"offset points\",\n",
    "                    ha='center', va='bottom')\n",
    "\n",
    "plt.tight_layout()\n",
    "plt.show()"
   ]
  },
  {
   "cell_type": "code",
   "execution_count": null,
   "id": "c7d1b5d3-3b00-438a-a839-141ecc531472",
   "metadata": {},
   "outputs": [],
   "source": []
  }
 ],
 "metadata": {
  "kernelspec": {
   "display_name": "Python 3 (ipykernel)",
   "language": "python",
   "name": "python3"
  },
  "language_info": {
   "codemirror_mode": {
    "name": "ipython",
    "version": 3
   },
   "file_extension": ".py",
   "mimetype": "text/x-python",
   "name": "python",
   "nbconvert_exporter": "python",
   "pygments_lexer": "ipython3",
   "version": "3.13.1"
  }
 },
 "nbformat": 4,
 "nbformat_minor": 5
}
